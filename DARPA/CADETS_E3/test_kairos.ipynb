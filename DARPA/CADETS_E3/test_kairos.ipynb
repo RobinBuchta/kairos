{
 "cells": [
  {
   "cell_type": "code",
   "execution_count": 1,
   "metadata": {},
   "outputs": [
    {
     "name": "stderr",
     "output_type": "stream",
     "text": [
      "/home/buchta/anaconda3/envs/kairos/lib/python3.9/site-packages/tqdm/auto.py:21: TqdmWarning: IProgress not found. Please update jupyter and ipywidgets. See https://ipywidgets.readthedocs.io/en/stable/user_install.html\n",
      "  from .autonotebook import tqdm as notebook_tqdm\n"
     ]
    }
   ],
   "source": [
    "import logging\n",
    "import sys\n",
    "sys.path.append('/home/buchta/sambashare/kairos/DARPA/CADETS_E3/')\n",
    "from kairos_utils import *\n",
    "from config import *\n",
    "from model import *\n",
    "\n",
    "# import kairos_utils\n",
    "# import config\n",
    "# import model\n",
    "\n",
    "import os\n",
    "\n",
    "# Specify the path you want to change to\n",
    "new_directory = '/home/buchta/sambashare/kairos/DARPA/CADETS_E3/'\n",
    "\n",
    "# Change the working directory\n",
    "os.chdir(new_directory)\n",
    "\n",
    "\n",
    "artifact_dir = \"./artifact/\"\n",
    "# Setting for logging\n",
    "logger = logging.getLogger(\"training_logger\")\n",
    "logger.setLevel(logging.INFO)\n",
    "file_handler = logging.FileHandler(artifact_dir + 'training.log')\n",
    "file_handler.setLevel(logging.INFO)\n",
    "formatter = logging.Formatter('%(asctime)s - %(levelname)s - %(message)s', datefmt='%Y-%m-%d %H:%M:%S')\n",
    "file_handler.setFormatter(formatter)\n",
    "logger.addHandler(file_handler)"
   ]
  },
  {
   "cell_type": "code",
   "execution_count": 6,
   "metadata": {},
   "outputs": [
    {
     "name": "stdout",
     "output_type": "stream",
     "text": [
      "2018-04-06 03:57:43.686766635\n",
      "./artifact/graph_4_3/atmp2018-04-06 03:57:43.686766635.txt\n"
     ]
    }
   ],
   "source": [
    "x = ns_time_to_datetime_US(1523001463686766635)\n",
    "print(x)\n",
    "artifact_dir = \"./artifact/\"\n",
    "path = artifact_dir + \"graph_4_3\"\n",
    "file_name = path + \"/\" +\"atmp\" + x + \".txt\"\n",
    "print(file_name)\n",
    "log = open(file_name, \"w\")"
   ]
  },
  {
   "cell_type": "code",
   "execution_count": 2,
   "metadata": {},
   "outputs": [],
   "source": [
    "def load_train_data():\n",
    "    graph_4_2 = torch.load(graphs_dir + \"/graph_4_2.TemporalData.simple\").to(device=device)\n",
    "    graph_4_3 = torch.load(graphs_dir + \"/graph_4_3.TemporalData.simple\").to(device=device)\n",
    "    graph_4_4 = torch.load(graphs_dir + \"/graph_4_4.TemporalData.simple\").to(device=device)\n",
    "    return [graph_4_2, graph_4_3, graph_4_4]"
   ]
  },
  {
   "cell_type": "code",
   "execution_count": 3,
   "metadata": {},
   "outputs": [],
   "source": [
    "train_data = load_train_data()\n"
   ]
  },
  {
   "cell_type": "code",
   "execution_count": 4,
   "metadata": {},
   "outputs": [
    {
     "data": {
      "text/plain": [
       "[TemporalData(dst=[445378], msg=[445378, 39], src=[445378], t=[445378]),\n",
       " TemporalData(dst=[1758192], msg=[1758192, 39], src=[1758192], t=[1758192]),\n",
       " TemporalData(dst=[1677700], msg=[1677700, 39], src=[1677700], t=[1677700])]"
      ]
     },
     "execution_count": 4,
     "metadata": {},
     "output_type": "execute_result"
    }
   ],
   "source": [
    "train_data"
   ]
  },
  {
   "cell_type": "code",
   "execution_count": 8,
   "metadata": {},
   "outputs": [
    {
     "data": {
      "text/plain": [
       "39"
      ]
     },
     "execution_count": 8,
     "metadata": {},
     "output_type": "execute_result"
    }
   ],
   "source": [
    "node_feat_size = train_data[0].msg.size(-1)\n",
    "node_feat_size"
   ]
  },
  {
   "cell_type": "code",
   "execution_count": 13,
   "metadata": {},
   "outputs": [
    {
     "data": {
      "text/plain": [
       "36496"
      ]
     },
     "execution_count": 13,
     "metadata": {},
     "output_type": "execute_result"
    }
   ],
   "source": [
    "len(train_data[0].dst.unique())"
   ]
  },
  {
   "cell_type": "code",
   "execution_count": 15,
   "metadata": {},
   "outputs": [
    {
     "data": {
      "text/plain": [
       "274"
      ]
     },
     "execution_count": 15,
     "metadata": {},
     "output_type": "execute_result"
    }
   ],
   "source": [
    "len(train_data[0].msg.unique()) #274 unique messages"
   ]
  },
  {
   "cell_type": "code",
   "execution_count": 21,
   "metadata": {},
   "outputs": [
    {
     "data": {
      "text/plain": [
       "tensor([0., 0., 0., 1., 0., 0., 0.], device='cuda:0')"
      ]
     },
     "execution_count": 21,
     "metadata": {},
     "output_type": "execute_result"
    }
   ],
   "source": [
    "train_data[0][0].msg[0][16:-16]"
   ]
  },
  {
   "cell_type": "code",
   "execution_count": 39,
   "metadata": {},
   "outputs": [
    {
     "data": {
      "text/plain": [
       "tensor([ 2., -2.,  0., -1.,  0., -1., -2.,  0.,  0.,  0.,  0.,  0.,  0., -1.,\n",
       "         0., -2.,  0.,  0.,  1.,  0.,  0.,  0.,  0.,  0.,  5.,  5.,  8.,  0.,\n",
       "        -4., -6.,  1.,  0.,  0.,  0.,  1.,  6.,  0.,  0.,  5.],\n",
       "       device='cuda:0')"
      ]
     },
     "execution_count": 39,
     "metadata": {},
     "output_type": "execute_result"
    }
   ],
   "source": [
    "train_data[0].msg[0:][1]"
   ]
  },
  {
   "cell_type": "code",
   "execution_count": null,
   "metadata": {},
   "outputs": [],
   "source": []
  }
 ],
 "metadata": {
  "kernelspec": {
   "display_name": "kairos",
   "language": "python",
   "name": "kairos"
  },
  "language_info": {
   "codemirror_mode": {
    "name": "ipython",
    "version": 3
   },
   "file_extension": ".py",
   "mimetype": "text/x-python",
   "name": "python",
   "nbconvert_exporter": "python",
   "pygments_lexer": "ipython3",
   "version": "3.9.17"
  },
  "orig_nbformat": 4
 },
 "nbformat": 4,
 "nbformat_minor": 2
}
